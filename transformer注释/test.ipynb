{
 "cells": [
  {
   "cell_type": "code",
   "execution_count": 1,
   "metadata": {},
   "outputs": [],
   "source": [
    "import torch\n",
    "import torch.nn as nn\n",
    "import torch.nn.functional as F"
   ]
  },
  {
   "cell_type": "markdown",
   "metadata": {},
   "source": [
    "### 张量维度"
   ]
  },
  {
   "cell_type": "code",
   "execution_count": 2,
   "metadata": {},
   "outputs": [
    {
     "data": {
      "text/plain": [
       "(tensor([[-1.1723,  0.6560, -0.0198, -0.1243,  1.2857],\n",
       "         [ 1.6174, -1.2217,  0.2966, -0.5486, -1.2536],\n",
       "         [-0.5397,  1.2439,  1.0251,  0.1083,  1.0483],\n",
       "         [-2.4084,  0.0065,  0.3842,  1.2833,  0.7698]]),\n",
       " tensor([[-1.1723e+00,  6.5604e-01, -1.9832e-02, -1.2426e-01,  1.2857e+00],\n",
       "         [-1.0000e+09, -1.0000e+09, -1.0000e+09, -1.0000e+09, -1.0000e+09],\n",
       "         [-5.3971e-01,  1.2439e+00,  1.0251e+00,  1.0834e-01,  1.0483e+00],\n",
       "         [-1.0000e+09, -1.0000e+09, -1.0000e+09, -1.0000e+09, -1.0000e+09]]))"
      ]
     },
     "execution_count": 2,
     "metadata": {},
     "output_type": "execute_result"
    }
   ],
   "source": [
    "attn=torch.randn(size=(4,5))\n",
    "mask=torch.ones_like(attn)\n",
    "mask[1,:]=0\n",
    "mask[3,:]=0\n",
    "res=attn.masked_fill(mask == 0, -1e9) \n",
    "attn,res"
   ]
  },
  {
   "cell_type": "code",
   "execution_count": 3,
   "metadata": {},
   "outputs": [
    {
     "data": {
      "text/plain": [
       "(torch.Size([4, 5, 3]), torch.Size([4, 5, 3]))"
      ]
     },
     "execution_count": 3,
     "metadata": {},
     "output_type": "execute_result"
    }
   ],
   "source": [
    "a=torch.randn(size=(4,5,3))\n",
    "a[:, :a.size(1)].clone().detach().shape,a[:].shape"
   ]
  },
  {
   "cell_type": "markdown",
   "metadata": {},
   "source": [
    "## nn.embedding 模块\n",
    "\n",
    "nn.Embedding是PyTorch中的一个常用模块，其主要作用是将输入的整数序列转换为密集向量表示。在自然语言处理（NLP）任务中，可以将每个单词表示成一个向量，从而方便进行下一步的计算和处理。\n",
    "\n",
    "embeddings中的值是正态分布N(0,1)中随机取值。"
   ]
  },
  {
   "cell_type": "code",
   "execution_count": null,
   "metadata": {},
   "outputs": [],
   "source": [
    "\n",
    "# torch.nn.Embedding(num_embeddings, 字典中词的个数\n",
    "#                    embedding_dim, embedding的维度\n",
    "#                    padding_idx=None, 索引指定填充：如果给定，则遇到padding_idx中的索引，则将其位置填0（0是默认值，事实上随便填充什么值都可以）。\n",
    "#                    max_norm=None, \n",
    "#                    norm_type=2.0, \n",
    "#                    scale_grad_by_freq=False, \n",
    "#                    sparse=False, \n",
    "#                    _weight=None, \n",
    "#                    _freeze=False, \n",
    "#                    device=None, \n",
    "#                    dtype=None)"
   ]
  },
  {
   "cell_type": "markdown",
   "metadata": {},
   "source": [
    "比如有两个句子：\n",
    "\n",
    "I want a plane\n",
    "\n",
    "I want to travel to Beijing\n",
    "\n",
    "将两个句子转化为ID映射：\n",
    "\n",
    "{I：1，want：2，a：3，plane：4，to：5，travel：6，Beijing：7}\n",
    "\n",
    "转化成ID表示的两个句子如下：\n",
    "\n",
    "* 1,2,3,4\n",
    "* 1,2,5,6,5,7\n"
   ]
  },
  {
   "cell_type": "code",
   "execution_count": 16,
   "metadata": {},
   "outputs": [
    {
     "name": "stdout",
     "output_type": "stream",
     "text": [
      "torch.Size([2, 6])\n",
      "torch.Size([2, 6, 4])\n",
      "tensor([[[ 0.0000e+00,  0.0000e+00,  0.0000e+00,  0.0000e+00],\n",
      "         [-3.7617e-01,  1.4583e+00,  2.7081e-01,  1.5754e+00],\n",
      "         [ 9.7307e-01,  1.5120e-01, -1.8328e+00,  3.0220e-01],\n",
      "         [ 1.3211e-02,  1.2444e+00,  1.6113e-03,  5.7591e-01],\n",
      "         [ 3.8019e-01,  1.1239e+00, -2.4857e+00,  8.9475e-01],\n",
      "         [ 3.8019e-01,  1.1239e+00, -2.4857e+00,  8.9475e-01]],\n",
      "\n",
      "        [[ 0.0000e+00,  0.0000e+00,  0.0000e+00,  0.0000e+00],\n",
      "         [-3.7617e-01,  1.4583e+00,  2.7081e-01,  1.5754e+00],\n",
      "         [-6.1391e-01,  8.6846e-01,  1.0594e+00, -1.5858e+00],\n",
      "         [ 9.3353e-01, -2.6515e-01,  1.2069e-03, -3.6509e-02],\n",
      "         [-6.1391e-01,  8.6846e-01,  1.0594e+00, -1.5858e+00],\n",
      "         [ 2.1252e+00, -5.1110e-01, -4.5761e-01, -6.5869e-01]]],\n",
      "       grad_fn=<EmbeddingBackward0>)\n",
      "torch.Size([100, 4])\n"
     ]
    }
   ],
   "source": [
    "import torch\n",
    "from torch import nn\n",
    " \n",
    "# 创建最大词个数为10，每个词用维度为4表示\n",
    "embedding = nn.Embedding(100, 4,padding_idx=1)\n",
    " \n",
    "# 将第一个句子填充0，与第二个句子长度对齐\n",
    "in_vector = torch.LongTensor([[1, 2, 3, 4, 0, 0], [1, 2, 5, 6, 5, 7]])\n",
    "out_emb = embedding(in_vector)\n",
    "print(in_vector.shape)\n",
    "print((out_emb.shape))\n",
    "print(out_emb)\n",
    "print(embedding.weight.shape) #可以看到这个维度正式和之前定义的一致，也就是对于每一个词表中的词，都会建立一个长度固定的向量"
   ]
  },
  {
   "cell_type": "markdown",
   "metadata": {},
   "source": [
    "## nn.embedding的可学习性"
   ]
  },
  {
   "cell_type": "code",
   "execution_count": 26,
   "metadata": {},
   "outputs": [
    {
     "name": "stdout",
     "output_type": "stream",
     "text": [
      "tensor([[ True,  True,  True,  True],\n",
      "        [False, False, False, False],\n",
      "        [False, False, False, False],\n",
      "        [False, False, False, False],\n",
      "        [False, False, False, False],\n",
      "        [ True,  True,  True,  True],\n",
      "        [ True,  True,  True,  True],\n",
      "        [ True,  True,  True,  True],\n",
      "        [ True,  True,  True,  True],\n",
      "        [ True,  True,  True,  True]])\n",
      "tensor([[[ 0.2158,  0.7156,  0.4839,  0.7790],\n",
      "         [ 0.8220,  0.7616,  0.5950,  1.0292],\n",
      "         [ 0.4477,  0.9220,  0.8966,  1.0344],\n",
      "         [ 0.8997,  0.3897,  0.4733,  0.9383],\n",
      "         [-0.7471,  0.0598,  1.2257,  0.0170],\n",
      "         [-0.7471,  0.0598,  1.2257,  0.0170]],\n",
      "\n",
      "        [[ 0.2158,  0.7156,  0.4839,  0.7790],\n",
      "         [ 0.8220,  0.7616,  0.5950,  1.0292],\n",
      "         [ 0.4900,  1.7632, -0.0985, -3.3767],\n",
      "         [-1.6483, -0.4112,  0.5477, -0.3571],\n",
      "         [ 0.4900,  1.7632, -0.0985, -3.3767],\n",
      "         [-0.4942,  0.3563,  2.1549,  0.0706]]], grad_fn=<EmbeddingBackward0>)\n"
     ]
    }
   ],
   "source": [
    "import torch\n",
    "from torch import nn\n",
    "import copy\n",
    " \n",
    "# 创建最大词个数为10，每个词用维度为4表示\n",
    "embedding = nn.Embedding(10, 4)\n",
    "# old_weight=embedding.weight.data.clone() # 这里需要注意。简单的等号赋值，只是浅拷贝，未做到复制的效果\n",
    "old_weight=copy.deepcopy(embedding.weight.data)\n",
    "# print(embedding.weight)\n",
    " \n",
    "# 将第一个句子填充0，与第二个句子长度对齐\n",
    "in_vector = torch.LongTensor([[1, 2, 3, 4, 0, 0], [1, 2, 5, 6, 5, 7]])\n",
    " \n",
    "optimizer = torch.optim.SGD(embedding.parameters(), lr=0.01)\n",
    "criteria = nn.MSELoss()\n",
    " \n",
    "for i in range(1000):\n",
    "    outputs = embedding(torch.LongTensor([1, 2, 3, 4]))\n",
    "    loss = criteria(outputs, torch.ones(4, 4))\n",
    "    loss.backward()\n",
    "    optimizer.step()\n",
    "    optimizer.zero_grad()\n",
    " \n",
    "# print(embedding.weight)\n",
    "print(old_weight==embedding.weight.data) # 前后的比较\n",
    "new_output = embedding(in_vector)\n",
    "print(new_output)"
   ]
  },
  {
   "cell_type": "markdown",
   "metadata": {},
   "source": [
    "可以发现embedding是可以通过梯度的反向传播进行学习的"
   ]
  },
  {
   "cell_type": "markdown",
   "metadata": {},
   "source": [
    "## 掩码处理"
   ]
  },
  {
   "cell_type": "code",
   "execution_count": 27,
   "metadata": {},
   "outputs": [],
   "source": [
    "def get_pad_mask(seq, pad_idx):\n",
    "    # (batch, seqlen) -> (batch, 1, seqlen) \n",
    "    return (seq != pad_idx).unsqueeze(-2)"
   ]
  },
  {
   "cell_type": "code",
   "execution_count": 30,
   "metadata": {},
   "outputs": [],
   "source": [
    "def get_subsequent_mask(seq):\n",
    "    ''' For masking out the subsequent info. '''\n",
    "    sz_b, len_s = seq.size()\n",
    "    subsequent_mask = (1 - torch.triu(\n",
    "        torch.ones((1, len_s, len_s), device=seq.device), diagonal=1)).bool()\n",
    "    return subsequent_mask"
   ]
  },
  {
   "cell_type": "code",
   "execution_count": 28,
   "metadata": {},
   "outputs": [
    {
     "name": "stdout",
     "output_type": "stream",
     "text": [
      "tensor([[[ True,  True,  True,  True, False, False]],\n",
      "\n",
      "        [[ True,  True,  True,  True,  True,  True]]])\n"
     ]
    }
   ],
   "source": [
    "import torch\n",
    "a=torch.tensor([[1,2,3,4,0,0],[1,2,5,6,5,7]])\n",
    "b=get_pad_mask(a,0)\n",
    "print(b) #若和pad_index一致，则为false"
   ]
  },
  {
   "cell_type": "code",
   "execution_count": 33,
   "metadata": {},
   "outputs": [
    {
     "name": "stdout",
     "output_type": "stream",
     "text": [
      "tensor([[[ True, False, False, False, False, False],\n",
      "         [ True,  True, False, False, False, False],\n",
      "         [ True,  True,  True, False, False, False],\n",
      "         [ True,  True,  True,  True, False, False],\n",
      "         [ True,  True,  True,  True,  True, False],\n",
      "         [ True,  True,  True,  True,  True,  True]]])\n"
     ]
    },
    {
     "data": {
      "text/plain": [
       "torch.Size([1, 6, 6])"
      ]
     },
     "execution_count": 33,
     "metadata": {},
     "output_type": "execute_result"
    }
   ],
   "source": [
    "a=torch.tensor([[1,2,3,4,0,0],[1,2,5,6,5,7]])\n",
    "c=get_subsequent_mask(a)\n",
    "print(c)\n",
    "c.shape"
   ]
  }
 ],
 "metadata": {
  "kernelspec": {
   "display_name": "torch",
   "language": "python",
   "name": "torch"
  },
  "language_info": {
   "codemirror_mode": {
    "name": "ipython",
    "version": 3
   },
   "file_extension": ".py",
   "mimetype": "text/x-python",
   "name": "python",
   "nbconvert_exporter": "python",
   "pygments_lexer": "ipython3",
   "version": "3.9.18"
  }
 },
 "nbformat": 4,
 "nbformat_minor": 2
}
