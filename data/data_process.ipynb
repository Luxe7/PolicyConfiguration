{
 "cells": [
  {
   "cell_type": "code",
   "execution_count": 1,
   "metadata": {},
   "outputs": [],
   "source": [
    "import pandas as pd\n",
    "import os"
   ]
  },
  {
   "cell_type": "markdown",
   "metadata": {},
   "source": [
    "## pandas包版本问题\n",
    "\n",
    "如果报错，需要将pandas的版本降低到1.4.1"
   ]
  },
  {
   "cell_type": "code",
   "execution_count": 68,
   "metadata": {},
   "outputs": [
    {
     "name": "stdout",
     "output_type": "stream",
     "text": [
      "Looking in indexes: https://pypi.tuna.tsinghua.edu.cn/simple\n",
      "Requirement already satisfied: pandas==1.4.1 in d:\\anaconda\\envs\\ml\\lib\\site-packages (1.4.1)\n",
      "Requirement already satisfied: python-dateutil>=2.8.1 in d:\\anaconda\\envs\\ml\\lib\\site-packages (from pandas==1.4.1) (2.8.2)\n",
      "Requirement already satisfied: pytz>=2020.1 in d:\\anaconda\\envs\\ml\\lib\\site-packages (from pandas==1.4.1) (2023.3.post1)\n",
      "Requirement already satisfied: numpy>=1.18.5 in d:\\anaconda\\envs\\ml\\lib\\site-packages (from pandas==1.4.1) (1.21.5)\n",
      "Requirement already satisfied: six>=1.5 in d:\\anaconda\\envs\\ml\\lib\\site-packages (from python-dateutil>=2.8.1->pandas==1.4.1) (1.16.0)\n",
      "Note: you may need to restart the kernel to use updated packages.\n"
     ]
    }
   ],
   "source": [
    "%pip install pandas==1.4.1"
   ]
  },
  {
   "cell_type": "code",
   "execution_count": 4,
   "metadata": {},
   "outputs": [
    {
     "data": {
      "text/plain": [
       "'1.4.1'"
      ]
     },
     "execution_count": 4,
     "metadata": {},
     "output_type": "execute_result"
    }
   ],
   "source": [
    "pd.__version__"
   ]
  },
  {
   "cell_type": "markdown",
   "metadata": {},
   "source": [
    "## 数据处理"
   ]
  },
  {
   "cell_type": "code",
   "execution_count": 9,
   "metadata": {},
   "outputs": [
    {
     "data": {
      "text/plain": [
       "['20230830-Au_Cu(COMEX).pkl',\n",
       " '20230830-CEM(yoy).pkl',\n",
       " '20230830-CPI(food-yoy).pkl',\n",
       " '20230830-CPI(mom).pkl',\n",
       " '20230830-CPI(non-food-yoy).pkl',\n",
       " '20230830-CPI(yoy).pkl',\n",
       " '20230830-CRB-IND.pkl',\n",
       " '20230830-CRB-metal.pkl',\n",
       " '20230830-DBI.pkl',\n",
       " '20230830-Electricity(yoy).pkl',\n",
       " '20230830-Enterprise(debt-yoy).pkl',\n",
       " '20230830-Enterprise(EX-yoy).pkl',\n",
       " '20230830-Enterprise(INV-yoy).pkl',\n",
       " '20230830-Enterprise(loss-yoy).pkl',\n",
       " '20230830-Export(yoy).pkl',\n",
       " '20230830-Import(yoy).pkl',\n",
       " '20230830-M1(yoy).pkl',\n",
       " '20230830-M2(yoy).pkl',\n",
       " '20230830-M2-M1(yoy).pkl',\n",
       " '20230830-Margin(AAA-CHN).pkl',\n",
       " '20230830-Margin(CHN-US).pkl',\n",
       " '20230830-PMI(m).pkl',\n",
       " '20230830-PMI(m-export).pkl',\n",
       " '20230830-PMI(m-import).pkl',\n",
       " '20230830-PMI(non_m-INV).pkl',\n",
       " '20230830-PMI(non_m-new_order).pkl',\n",
       " '20230830-PPI(clothing-yoy).pkl',\n",
       " '20230830-PPI(food-yoy).pkl',\n",
       " '20230830-PPI(mining-yoy).pkl',\n",
       " '20230830-PPI(mom).pkl',\n",
       " '20230830-PPI(processing-yoy).pkl',\n",
       " '20230830-PPI(raw_material-yoy).pkl',\n",
       " '20230830-PPI(yoy).pkl',\n",
       " '20230830-PPIRM(chemical-yoy).pkl',\n",
       " '20230830-PPIRM(ferrous-yoy).pkl',\n",
       " '20230830-PPIRM(fuel-yoy).pkl',\n",
       " '20230830-PPIRM(MOC-yoy).pkl',\n",
       " '20230830-PPIRM(nonferrous-yoy).pkl',\n",
       " '20230830-PPIRM(PFL-yoy).pkl',\n",
       " '20230830-PPIRM(pulp-yoy).pkl',\n",
       " '20230830-PPIRM(textile-yoy).pkl',\n",
       " '20230830-PPIRM(WIP-yoy).pkl',\n",
       " '20230830-PPIRM(yoy).pkl',\n",
       " '20230830-SF(yoy).pkl',\n",
       " '20230830-Steel(yoy).pkl',\n",
       " '20230830-WTI.pkl']"
      ]
     },
     "execution_count": 9,
     "metadata": {},
     "output_type": "execute_result"
    }
   ],
   "source": [
    "data_dir_path=os.path.join(os.getcwd(), \"macro\")\n",
    "data_file_name=os.listdir(data_dir_path) #获取当前文件夹中所有文件名\n",
    "data_file_name"
   ]
  },
  {
   "cell_type": "code",
   "execution_count": 53,
   "metadata": {},
   "outputs": [],
   "source": [
    "def get_all_df():\n",
    "    # 获取列表，同时检查每一行的值是否相同\n",
    "    df_dict={}\n",
    "    data_dir_path=os.path.join(os.getcwd(), \"macro\")\n",
    "    data_file_name=os.listdir(data_dir_path)\n",
    "    for file_name in data_file_name:\n",
    "        file_path=os.path.join(data_dir_path, file_name)\n",
    "        df,Isunique=get_file_df(file_path)\n",
    "        df_dict[file_name[:-4]]=df\n",
    "        if not Isunique:\n",
    "            print(f\"{file_name}'s rows has different values\")\n",
    "    return df_dict\n",
    "\n",
    "\n",
    "\n",
    "def get_file_df(file_path):\n",
    "    \n",
    "    df=pd.read_pickle(file_path)\n",
    "    return df,(df.apply(pd.Series.nunique) == 1).all()"
   ]
  },
  {
   "cell_type": "code",
   "execution_count": 54,
   "metadata": {},
   "outputs": [
    {
     "data": {
      "text/plain": [
       "dict_keys(['20230830-Au_Cu(COMEX)', '20230830-CEM(yoy)', '20230830-CPI(food-yoy)', '20230830-CPI(mom)', '20230830-CPI(non-food-yoy)', '20230830-CPI(yoy)', '20230830-CRB-IND', '20230830-CRB-metal', '20230830-DBI', '20230830-Electricity(yoy)', '20230830-Enterprise(debt-yoy)', '20230830-Enterprise(EX-yoy)', '20230830-Enterprise(INV-yoy)', '20230830-Enterprise(loss-yoy)', '20230830-Export(yoy)', '20230830-Import(yoy)', '20230830-M1(yoy)', '20230830-M2(yoy)', '20230830-M2-M1(yoy)', '20230830-Margin(AAA-CHN)', '20230830-Margin(CHN-US)', '20230830-PMI(m)', '20230830-PMI(m-export)', '20230830-PMI(m-import)', '20230830-PMI(non_m-INV)', '20230830-PMI(non_m-new_order)', '20230830-PPI(clothing-yoy)', '20230830-PPI(food-yoy)', '20230830-PPI(mining-yoy)', '20230830-PPI(mom)', '20230830-PPI(processing-yoy)', '20230830-PPI(raw_material-yoy)', '20230830-PPI(yoy)', '20230830-PPIRM(chemical-yoy)', '20230830-PPIRM(ferrous-yoy)', '20230830-PPIRM(fuel-yoy)', '20230830-PPIRM(MOC-yoy)', '20230830-PPIRM(nonferrous-yoy)', '20230830-PPIRM(PFL-yoy)', '20230830-PPIRM(pulp-yoy)', '20230830-PPIRM(textile-yoy)', '20230830-PPIRM(WIP-yoy)', '20230830-PPIRM(yoy)', '20230830-SF(yoy)', '20230830-Steel(yoy)', '20230830-WTI'])"
      ]
     },
     "execution_count": 54,
     "metadata": {},
     "output_type": "execute_result"
    }
   ],
   "source": [
    "tem=get_all_df()\n",
    "tem.keys()"
   ]
  },
  {
   "cell_type": "markdown",
   "metadata": {},
   "source": [
    "可以看到每一行的数据均为相同值，因此分析时可以将每一个DataFrame中保留一行，分析这一行的数据即可"
   ]
  },
  {
   "cell_type": "code",
   "execution_count": 64,
   "metadata": {},
   "outputs": [],
   "source": [
    "def processed_data():\n",
    "    df_dict={}\n",
    "    data_dir_path=os.path.join(os.getcwd(), \"macro\")\n",
    "    data_file_name=os.listdir(data_dir_path)\n",
    "    for file_name in data_file_name:\n",
    "        file_path=os.path.join(data_dir_path, file_name)\n",
    "        df,_=get_file_df(file_path)\n",
    "        df_dict[file_name[:-4]]=pd.DataFrame(df.iloc[0]).T\n",
    "    return df_dict"
   ]
  },
  {
   "cell_type": "code",
   "execution_count": 65,
   "metadata": {},
   "outputs": [],
   "source": [
    "data_processed=processed_data()"
   ]
  },
  {
   "cell_type": "markdown",
   "metadata": {},
   "source": [
    "### 查看第一个DataFrame的信息"
   ]
  },
  {
   "cell_type": "code",
   "execution_count": 66,
   "metadata": {},
   "outputs": [
    {
     "data": {
      "text/plain": [
       "dict_keys(['20230830-Au_Cu(COMEX)', '20230830-CEM(yoy)', '20230830-CPI(food-yoy)', '20230830-CPI(mom)', '20230830-CPI(non-food-yoy)', '20230830-CPI(yoy)', '20230830-CRB-IND', '20230830-CRB-metal', '20230830-DBI', '20230830-Electricity(yoy)', '20230830-Enterprise(debt-yoy)', '20230830-Enterprise(EX-yoy)', '20230830-Enterprise(INV-yoy)', '20230830-Enterprise(loss-yoy)', '20230830-Export(yoy)', '20230830-Import(yoy)', '20230830-M1(yoy)', '20230830-M2(yoy)', '20230830-M2-M1(yoy)', '20230830-Margin(AAA-CHN)', '20230830-Margin(CHN-US)', '20230830-PMI(m)', '20230830-PMI(m-export)', '20230830-PMI(m-import)', '20230830-PMI(non_m-INV)', '20230830-PMI(non_m-new_order)', '20230830-PPI(clothing-yoy)', '20230830-PPI(food-yoy)', '20230830-PPI(mining-yoy)', '20230830-PPI(mom)', '20230830-PPI(processing-yoy)', '20230830-PPI(raw_material-yoy)', '20230830-PPI(yoy)', '20230830-PPIRM(chemical-yoy)', '20230830-PPIRM(ferrous-yoy)', '20230830-PPIRM(fuel-yoy)', '20230830-PPIRM(MOC-yoy)', '20230830-PPIRM(nonferrous-yoy)', '20230830-PPIRM(PFL-yoy)', '20230830-PPIRM(pulp-yoy)', '20230830-PPIRM(textile-yoy)', '20230830-PPIRM(WIP-yoy)', '20230830-PPIRM(yoy)', '20230830-SF(yoy)', '20230830-Steel(yoy)', '20230830-WTI'])"
      ]
     },
     "execution_count": 66,
     "metadata": {},
     "output_type": "execute_result"
    }
   ],
   "source": [
    "data_processed.keys()"
   ]
  },
  {
   "cell_type": "code",
   "execution_count": 67,
   "metadata": {},
   "outputs": [
    {
     "data": {
      "text/html": [
       "<div>\n",
       "<style scoped>\n",
       "    .dataframe tbody tr th:only-of-type {\n",
       "        vertical-align: middle;\n",
       "    }\n",
       "\n",
       "    .dataframe tbody tr th {\n",
       "        vertical-align: top;\n",
       "    }\n",
       "\n",
       "    .dataframe thead th {\n",
       "        text-align: right;\n",
       "    }\n",
       "</style>\n",
       "<table border=\"1\" class=\"dataframe\">\n",
       "  <thead>\n",
       "    <tr style=\"text-align: right;\">\n",
       "      <th></th>\n",
       "      <th>2007-01-04</th>\n",
       "      <th>2007-01-05</th>\n",
       "      <th>2007-01-08</th>\n",
       "      <th>2007-01-09</th>\n",
       "      <th>2007-01-10</th>\n",
       "      <th>2007-01-11</th>\n",
       "      <th>2007-01-12</th>\n",
       "      <th>2007-01-15</th>\n",
       "      <th>2007-01-16</th>\n",
       "      <th>2007-01-17</th>\n",
       "      <th>...</th>\n",
       "      <th>2023-08-17</th>\n",
       "      <th>2023-08-18</th>\n",
       "      <th>2023-08-21</th>\n",
       "      <th>2023-08-22</th>\n",
       "      <th>2023-08-23</th>\n",
       "      <th>2023-08-24</th>\n",
       "      <th>2023-08-25</th>\n",
       "      <th>2023-08-28</th>\n",
       "      <th>2023-08-29</th>\n",
       "      <th>2023-08-30</th>\n",
       "    </tr>\n",
       "  </thead>\n",
       "  <tbody>\n",
       "    <tr>\n",
       "      <th>801016</th>\n",
       "      <td>16.79</td>\n",
       "      <td>16.79</td>\n",
       "      <td>16.79</td>\n",
       "      <td>16.79</td>\n",
       "      <td>16.79</td>\n",
       "      <td>16.79</td>\n",
       "      <td>16.79</td>\n",
       "      <td>16.79</td>\n",
       "      <td>16.64</td>\n",
       "      <td>16.64</td>\n",
       "      <td>...</td>\n",
       "      <td>13.59</td>\n",
       "      <td>13.59</td>\n",
       "      <td>13.59</td>\n",
       "      <td>13.59</td>\n",
       "      <td>13.59</td>\n",
       "      <td>13.59</td>\n",
       "      <td>13.59</td>\n",
       "      <td>13.59</td>\n",
       "      <td>13.59</td>\n",
       "      <td>13.59</td>\n",
       "    </tr>\n",
       "  </tbody>\n",
       "</table>\n",
       "<p>1 rows × 4052 columns</p>\n",
       "</div>"
      ],
      "text/plain": [
       "        2007-01-04  2007-01-05  2007-01-08  2007-01-09  2007-01-10  \\\n",
       "801016       16.79       16.79       16.79       16.79       16.79   \n",
       "\n",
       "        2007-01-11  2007-01-12  2007-01-15  2007-01-16  2007-01-17  ...  \\\n",
       "801016       16.79       16.79       16.79       16.64       16.64  ...   \n",
       "\n",
       "        2023-08-17  2023-08-18  2023-08-21  2023-08-22  2023-08-23  \\\n",
       "801016       13.59       13.59       13.59       13.59       13.59   \n",
       "\n",
       "        2023-08-24  2023-08-25  2023-08-28  2023-08-29  2023-08-30  \n",
       "801016       13.59       13.59       13.59       13.59       13.59  \n",
       "\n",
       "[1 rows x 4052 columns]"
      ]
     },
     "execution_count": 67,
     "metadata": {},
     "output_type": "execute_result"
    }
   ],
   "source": [
    "data_processed['20230830-M2-M1(yoy)'].head()"
   ]
  },
  {
   "cell_type": "markdown",
   "metadata": {},
   "source": [
    "大概数据处理就比较简单基本没干什么事情，数据比较干净，接下来就要进行分析工作了\n",
    "\n",
    "`processed_data`函数可以复用，返回结果是一个字典，字典的key是文件名，value是DataFrame，DataFrame的columns是日期"
   ]
  }
 ],
 "metadata": {
  "kernelspec": {
   "display_name": "ml",
   "language": "python",
   "name": "python3"
  },
  "language_info": {
   "codemirror_mode": {
    "name": "ipython",
    "version": 3
   },
   "file_extension": ".py",
   "mimetype": "text/x-python",
   "name": "python",
   "nbconvert_exporter": "python",
   "pygments_lexer": "ipython3",
   "version": "3.8.3"
  }
 },
 "nbformat": 4,
 "nbformat_minor": 2
}
